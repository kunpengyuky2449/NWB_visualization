{
 "cells": [
  {
   "cell_type": "markdown",
   "metadata": {},
   "source": [
    "# Load key functions"
   ]
  },
  {
   "cell_type": "code",
   "execution_count": 1,
   "metadata": {},
   "outputs": [],
   "source": [
    "# Enable autoreload to automatically update changes in modules\n",
    "%load_ext autoreload\n",
    "%autoreload 2\n",
    "\n",
    "import os\n",
    "import json\n",
    "from pathlib import Path\n",
    "import matplotlib.pyplot as plt\n",
    "from MySrc.general_utilities import load_nwb, get_units_tables, get_trial_timing, compute_average_firing_rate, fetch_key_metrices, check_quality, save_figure, load_selected_neurons # Import the function\n",
    "from MySrc.plot_utilities import plot_neuron_general_metrices\n",
    "import MySrc.dPCA_utilities\n",
    "import numpy as np\n",
    "from scipy.ndimage import gaussian_filter1d\n",
    "from itertools import product\n"
   ]
  },
  {
   "cell_type": "markdown",
   "metadata": {},
   "source": [
    "# load data and selected neurons"
   ]
  },
  {
   "cell_type": "code",
   "execution_count": 2,
   "metadata": {},
   "outputs": [],
   "source": [
    "nwb_path = r\"H:\\My Drive\\NWB_data_Monkey\\Albus-S1_RightHand_psycho_NOpostchoice\\exp2024-04-03-125141_prepro.nwb\"\n",
    "filtered_neuron_path = r\"H:\\My Drive\\NWB_data_Monkey\\NWB_Visualization\\Albus-S1_RightHand_psycho_NOpostchoice\\exp2024-04-03-125141_prepro\\selected_neurons_LS1_good.json\"\n"
   ]
  },
  {
   "cell_type": "code",
   "execution_count": 3,
   "metadata": {},
   "outputs": [
    {
     "name": "stdout",
     "output_type": "stream",
     "text": [
      "📂 Session Name: exp2024-04-03-125141_prepro\n",
      "✅ Number of Selected Neurons: 21\n",
      "📄 Loaded Data: exp2024-04-03-125141_prepro [['units-B1-129-160-14', 35], ['units-B1-129-160-14', 36], ['units-B1-129-160-15', 32], ['units-B1-129-160-15', 33], ['units-B1-129-160-15', 34], ['units-B1-129-160-15', 41], ['units-B1-129-160-16', 24], ['units-B1-129-160-16', 26], ['units-B1-129-160-16', 28], ['units-B1-129-160-16', 42], ['units-B1-129-160-17', 22], ['units-B1-129-160-18', 20], ['units-B1-129-160-18', 21], ['units-B1-129-160-20', 18], ['units-B1-129-160-23', 15], ['units-B1-129-160-24', 13], ['units-B1-129-160-24', 14], ['units-B1-129-160-28', 39], ['units-B1-129-160-29', 6], ['units-B1-129-160-29', 7], ['units-B1-129-160-32', 37]]\n"
     ]
    },
    {
     "name": "stderr",
     "output_type": "stream",
     "text": [
      "h:\\My Drive\\git_projects\\NWB_visualization\\venv\\Lib\\site-packages\\hdmf\\spec\\namespace.py:535: UserWarning: Ignoring cached namespace 'core' version 2.7.0 because version 2.8.0 is already loaded.\n",
      "  warn(\"Ignoring cached namespace '%s' version %s because version %s is already loaded.\"\n"
     ]
    }
   ],
   "source": [
    "# Example usage (provide a valid file path)\n",
    "session, selected_neurons = load_selected_neurons(filtered_neuron_path)\n",
    "# If file was successfully loaded, print data\n",
    "if session and selected_neurons is not None:\n",
    "    print(\"📄 Loaded Data:\", session, selected_neurons)\n",
    "\n",
    "nwbfile, io = load_nwb(nwb_path)\n",
    "# Get units table\n",
    "units_tables, table_names = get_units_tables(nwbfile)"
   ]
  },
  {
   "cell_type": "markdown",
   "metadata": {},
   "source": [
    "# Prototype: get trial x neurons x in-trial-time 3D tensor\n",
    "given center event, obs window and smoothing parameters"
   ]
  },
  {
   "cell_type": "markdown",
   "metadata": {},
   "source": [
    "prototype script for dPCA preprocessing: get trial x neuron x in-tirla time tensor"
   ]
  },
  {
   "cell_type": "code",
   "execution_count": null,
   "metadata": {},
   "outputs": [
    {
     "name": "stdout",
     "output_type": "stream",
     "text": [
      "Trial Tensor Shape: (80, 21, 700)\n"
     ]
    }
   ],
   "source": [
    "# # Define parameters\n",
    "# event = \"stim1_ON_time\"\n",
    "# window_start, window_end = -1.0, 6.0  # Observation window (-1s to +6s)\n",
    "# bin_size = 0.01  # 10ms bins\n",
    "# time_bins = np.arange(window_start, window_end + bin_size, bin_size)  \n",
    "# num_time_frames = len(time_bins) - 1  # Number of bins\n",
    "\n",
    "# # ✅ Filter valid trials\n",
    "# valid_trials_mask = nwbfile.trials[\"choiceTarget_ON_time\"].data[:] > 0  # Ignore early-stopped trials that gives no choice target\n",
    "# valid_event_times = nwbfile.trials[event].data[:][valid_trials_mask]\n",
    "# num_trials = len(valid_event_times)\n",
    "\n",
    "# # ✅ Initialize tensor (trials × neurons × time_bins)\n",
    "# trial_tensor = np.zeros((num_trials, len(selected_neurons), num_time_frames))\n",
    "\n",
    "# # Loop through neurons\n",
    "# for neuron_idx, (electrode_name, unit_name) in enumerate(selected_neurons):\n",
    "#     # Find correct electrode and unit\n",
    "#     corrected_electrode_name = electrode_name.rsplit('-', 1)[0]\n",
    "#     unit_table = units_tables[corrected_electrode_name]\n",
    "#     true_unit_ids = unit_table.unit_name[:]\n",
    "\n",
    "#     # Find unit index\n",
    "#     index = np.where(true_unit_ids.astype(str) == str(unit_name))[0]\n",
    "#     if index.size == 0:\n",
    "#         print(f\"⚠ Warning: unit {unit_name} not found in {corrected_electrode_name}, skipping.\")\n",
    "#         continue\n",
    "#     index = index[0]\n",
    "\n",
    "#     # Retrieve spike times\n",
    "#     unit_spike_times = unit_table[\"spike_times\"][index]\n",
    "\n",
    "#     # Loop through valid trials\n",
    "#     for trial_idx, event_time in enumerate(valid_event_times):\n",
    "#         # Extract spikes within the window\n",
    "#         spike_mask = (unit_spike_times >= event_time + window_start) & (unit_spike_times < event_time + window_end)\n",
    "#         aligned_spikes = unit_spike_times[spike_mask] - event_time  # Align to event\n",
    "\n",
    "#         # Compute spike histogram\n",
    "#         spike_counts, _ = np.histogram(aligned_spikes, bins=time_bins)\n",
    "\n",
    "#         # Apply Gaussian smoothing\n",
    "#         sigma = 1  # Smoothing factor (adjust if needed)\n",
    "#         spike_counts_smoothed = gaussian_filter1d(spike_counts.astype(float), sigma=sigma)\n",
    "#         spike_counts_smoothed -= np.mean(spike_counts_smoothed)  # Normalize\n",
    "\n",
    "#         # Store in tensor\n",
    "#         trial_tensor[trial_idx, neuron_idx, :] = spike_counts_smoothed\n",
    "\n",
    "# # Print final tensor shape\n",
    "# print(\"Trial Tensor Shape:\", trial_tensor.shape)  # Expected: (trials, neurons, time_bins)\n",
    "# # Compute mean across all trials and time for each neuron (shape: (21, 1, 1))\n",
    "# neuron_means = np.mean(trial_tensor, axis=(0, 2), keepdims=True)\n",
    "# # Subtract mean from each neuron's activity\n",
    "# normalized_trial_tensor = trial_tensor - neuron_means"
   ]
  },
  {
   "cell_type": "markdown",
   "metadata": {},
   "source": [
    "# Utility function: get trial x neurons x in-trial-time 3D tensor"
   ]
  },
  {
   "cell_type": "code",
   "execution_count": 4,
   "metadata": {},
   "outputs": [],
   "source": [
    "from MySrc.dPCA_utilities import compute_TrNTi_tensor\n",
    "\n",
    "# Define parameters\n",
    "normalized_trial_tensor = compute_TrNTi_tensor(nwbfile, units_tables, selected_neurons, \n",
    "                         event=\"stim1_ON_time\", window_start=-1.0, window_end=6.0, \n",
    "                         bin_size=0.01, normalize=True, gaussian_smooth=True, sigma=1)"
   ]
  },
  {
   "cell_type": "markdown",
   "metadata": {},
   "source": [
    "Example unit 3's trial-averaging firing rate in defined window: sanity check"
   ]
  },
  {
   "cell_type": "code",
   "execution_count": 5,
   "metadata": {},
   "outputs": [
    {
     "data": {
      "text/plain": [
       "[<matplotlib.lines.Line2D at 0x2336c652210>]"
      ]
     },
     "execution_count": 5,
     "metadata": {},
     "output_type": "execute_result"
    },
    {
     "data": {
      "image/png": "[encoded data removed]",
      "text/plain": [
       "<Figure size 640x480 with 1 Axes>"
      ]
     },
     "metadata": {},
     "output_type": "display_data"
    }
   ],
   "source": [
    "plt.plot(np.mean(normalized_trial_tensor[:,3,:], axis=0).T)"
   ]
  },
  {
   "cell_type": "markdown",
   "metadata": {},
   "source": [
    "# Setup categorical axis/labels with same size as trial number and initialize multidimensional tensor for dPCA in shape:\n",
    "neurons x in-trial-time x category1 x category2....etc, the example code is example, the categorical axis/labels  should be designed based on your researching goal"
   ]
  },
  {
   "cell_type": "code",
   "execution_count": 6,
   "metadata": {},
   "outputs": [],
   "source": [
    "valid_trials_mask = nwbfile.trials[\"choiceTarget_ON_time\"].data[:] > 0 \n",
    "key_events = [\"tact2_Left_AMP\",\"tact2_Right_AMP\",\"selectedChoiceTarget_ID\",\"rewardStart_time\"]\n",
    "valid_event_times = {event: nwbfile.trials[event].data[:][valid_trials_mask] for event in key_events}"
   ]
  },
  {
   "cell_type": "code",
   "execution_count": 7,
   "metadata": {},
   "outputs": [],
   "source": [
    "# ✅ Extract categorical labels based on the updated key events\n",
    "# 1️⃣ **Hand of Stim** → Compare `tact1_Left_AMP` and `tact1_Right_AMP`\n",
    "categories = {}\n",
    "#categories[\"hand_of_stim\"] = np.where(valid_event_times[\"tact1_Left_AMP\"] > 0, 0, 1)\n",
    "# 2️⃣ **Stim Strength** → Maximum of `tact2_Left_AMP` and `tact2_Right_AMP`\n",
    "temp = np.maximum(valid_event_times[\"tact2_Left_AMP\"], valid_event_times[\"tact2_Right_AMP\"])\n",
    "unique_values = np.sort(np.unique(temp))\n",
    "# Create mapping from original values to discrete category indices (0 to num_classes-1)\n",
    "value_to_category = {val: idx for idx, val in enumerate(unique_values)}\n",
    "\n",
    "# Replace original values in the array with corresponding category indices\n",
    "categories[\"stim_strength\"] = np.vectorize(lambda x: value_to_category[x])(temp)\n",
    "# ✅ Generate categories based on selectedChoiceTarget_ID\n",
    "# 1️⃣ **High/Low Perception** → 1,2 means \"low\", 3,4 means \"high\"\n",
    "categories[\"high_low\"] = np.where(np.isin(valid_event_times[\"selectedChoiceTarget_ID\"], [1, 2]), 0, 1)\n",
    "# 2️⃣ **Left/Right Choice** → 1,3 means \"left\", 2,4 means \"right\"\n",
    "categories[\"left_right\"] = np.where(np.isin(valid_event_times[\"selectedChoiceTarget_ID\"], [1, 3]), 0, 1)\n",
    "\n",
    "#categories[\"reward\"] = np.where((valid_event_times[\"rewardStart_time\"]>0),1,0)\n"
   ]
  },
  {
   "cell_type": "markdown",
   "metadata": {},
   "source": [
    "# Prototype: Based on combination of extracted categorical axis/labels:\n",
    "calculate the mean of all trials of that category-combination into neurons x in-trial times \"disc\"\n",
    "Then insert it to correct multidimentional tensor index based on its category-combination "
   ]
  },
  {
   "cell_type": "code",
   "execution_count": null,
   "metadata": {},
   "outputs": [],
   "source": [
    "# TrNTi_tensor = normalized_trial_tensor\n",
    "# categories = categories\n",
    "\n",
    "# category_names = list(categories.keys())\n",
    "# print(category_names)\n",
    "# category_sizes = [len(np.unique(categories[name])) for name in category_names]\n",
    "# # Initialize the dPCA tensor with zeros\n",
    "# dpca_tensor = np.zeros((TrNTi_tensor.shape[1], TrNTi_tensor.shape[2], *category_sizes))\n",
    "\n",
    "# category_combinations = list(product(*[range(size) for size in category_sizes]))\n",
    "# category_array = np.column_stack([categories[name] for name in category_names])\n",
    "# # Fill the dPCA tensor by averaging trials for each category combination\n",
    "# for combination in category_combinations:\n",
    "#     # Find trials matching the current combination\n",
    "#     mask = np.all(category_array == np.array(combination), axis=1)\n",
    "#     matching_trials = normalized_trial_tensor[mask]  # Select trials\n",
    "\n",
    "#     if matching_trials.shape[0] > 0:\n",
    "#         # Compute mean over trials and insert into corresponding location\n",
    "#         dpca_tensor[:, :, *combination] = np.mean(matching_trials, axis=0)\n",
    "#     else:\n",
    "#         print(\"no data found for this combination\")\n",
    "#         print(combination)\n",
    "\n",
    "# # Return the constructed dPCA tensor\n",
    "# dpca_tensor.shape  # Display the final shape for verification"
   ]
  },
  {
   "cell_type": "markdown",
   "metadata": {},
   "source": [
    "# Utility function: Based on combination of extracted categorical axis/labels:"
   ]
  },
  {
   "cell_type": "code",
   "execution_count": 9,
   "metadata": {},
   "outputs": [],
   "source": [
    "from MySrc.dPCA_utilities import compute_dpca_tensor\n",
    "dpca_tensor, category_names = compute_dpca_tensor(normalized_trial_tensor, categories)"
   ]
  },
  {
   "cell_type": "markdown",
   "metadata": {},
   "source": [
    "example: trial average FR for stratified condition: unit 3, animal sense strongest 2nd stem, and decide to choose high and gaze to left side"
   ]
  },
  {
   "cell_type": "code",
   "execution_count": 10,
   "metadata": {},
   "outputs": [
    {
     "data": {
      "text/plain": [
       "[<matplotlib.lines.Line2D at 0x2332d762550>]"
      ]
     },
     "execution_count": 10,
     "metadata": {},
     "output_type": "execute_result"
    },
    {
     "data": {
      "image/png": "[encoded data removed]",
      "text/plain": [
       "<Figure size 640x480 with 1 Axes>"
      ]
     },
     "metadata": {},
     "output_type": "display_data"
    }
   ],
   "source": [
    "plt.plot(dpca_tensor[3,:,3,1,0])"
   ]
  },
  {
   "cell_type": "markdown",
   "metadata": {},
   "source": [
    "# example of joining interested decoding elemets with its time modified version \n",
    "(my explanation is not optimal check https://github.com/machenslab/elife2016dpca as original authro's examples for paper)"
   ]
  },
  {
   "cell_type": "code",
   "execution_count": 11,
   "metadata": {},
   "outputs": [],
   "source": [
    "from dPCA import dPCA\n",
    "# ✅ Define dPCA model\n",
    "join = {'stim_strenth' : ['s','ts'], 'decision' : ['d','td'], 'gaze_direction' : ['o','to'],'s_d_interplay' : ['sd','tsd'],\n",
    "        'so':['so','tso'],'do':['do','tdo']}\n",
    "dpca2 = dPCA.dPCA(labels='tsdo', join = join, regularizer=None, n_components=5)  # 5 categories\n",
    "# ✅ Run dPCA on preprocessed matrix (Ensure correct shape: categories × (trials × time bins) × neurons)\n",
    "Z2 = dpca2.fit_transform(dpca_tensor)\n",
    "\n",
    "# ✅ Extract Components\n",
    "explained_variance2 = dpca2.explained_variance_ratio_\n",
    "#components = Z['1']  # 't' = time-related component\n"
   ]
  },
  {
   "cell_type": "code",
   "execution_count": 12,
   "metadata": {},
   "outputs": [
    {
     "data": {
      "text/plain": [
       "{'t': [np.float64(0.03309993008825172),\n",
       "  np.float64(0.01613271865016231),\n",
       "  np.float64(0.006315021862507892),\n",
       "  np.float64(0.005508536469588364),\n",
       "  np.float64(0.0019626830551583464)],\n",
       " 'sdo': [np.float64(1.4817788168264647e-64),\n",
       "  np.float64(9.742283056327073e-65),\n",
       "  np.float64(7.470850063332921e-65),\n",
       "  np.float64(3.602888807614854e-65),\n",
       "  np.float64(2.908511461247588e-65)],\n",
       " 'tsdo': [np.float64(0.004039017862750205),\n",
       "  np.float64(0.0029286826103415175),\n",
       "  np.float64(0.002192691640791559),\n",
       "  np.float64(0.001998439782560912),\n",
       "  np.float64(0.0016120718210617586)],\n",
       " 'stim_strenth': [np.float64(0.003490349793745562),\n",
       "  np.float64(0.0029787561591175264),\n",
       "  np.float64(0.0020732205296036094),\n",
       "  np.float64(0.0016075877914237804),\n",
       "  np.float64(0.0015502999231344313)],\n",
       " 'decision': [np.float64(0.004558034841654977),\n",
       "  np.float64(0.0006660658270960626),\n",
       "  np.float64(0.0004830160233154988),\n",
       "  np.float64(0.00040179859750899007),\n",
       "  np.float64(0.00024232370387365315)],\n",
       " 'gaze_direction': [np.float64(0.0006499409382965108),\n",
       "  np.float64(0.0005770055008293243),\n",
       "  np.float64(0.00037349232017246483),\n",
       "  np.float64(0.00035681287219218905),\n",
       "  np.float64(0.00027280147697424675)],\n",
       " 's_d_interplay': [np.float64(0.014686657696346259),\n",
       "  np.float64(0.004211691655121216),\n",
       "  np.float64(0.004120065711730772),\n",
       "  np.float64(0.0031037728852272794),\n",
       "  np.float64(0.0019521950306010739)],\n",
       " 'so': [np.float64(0.0038727821456720074),\n",
       "  np.float64(0.0035111450337277053),\n",
       "  np.float64(0.002409547039962702),\n",
       "  np.float64(0.0019916096612398594),\n",
       "  np.float64(0.0015897553610268093)],\n",
       " 'do': [np.float64(0.000533005786928634),\n",
       "  np.float64(0.00036515741171854116),\n",
       "  np.float64(0.00025644820601765015),\n",
       "  np.float64(0.000238246271069568),\n",
       "  np.float64(0.00019011606785268259)]}"
      ]
     },
     "execution_count": 12,
     "metadata": {},
     "output_type": "execute_result"
    }
   ],
   "source": [
    "explained_variance2"
   ]
  },
  {
   "cell_type": "code",
   "execution_count": 54,
   "metadata": {},
   "outputs": [
    {
     "name": "stdout",
     "output_type": "stream",
     "text": [
      "0.019734126059246005\n"
     ]
    }
   ],
   "source": [
    "total_variance = np.var(TrNT_tensor)\n",
    "print(total_variance)"
   ]
  },
  {
   "cell_type": "code",
   "execution_count": 51,
   "metadata": {},
   "outputs": [
    {
     "data": {
      "text/plain": [
       "{'t': [np.float64(0.033099892419076175),\n",
       "  np.float64(0.01613238733746922),\n",
       "  np.float64(0.006316925409592311),\n",
       "  np.float64(0.0055096851221192195),\n",
       "  np.float64(0.0019603618579277426)],\n",
       " 'sdo': [np.float64(1.4826587229796393e-64),\n",
       "  np.float64(9.743378667599408e-65),\n",
       "  np.float64(7.483969390334419e-65),\n",
       "  np.float64(3.6010505931701134e-65),\n",
       "  np.float64(2.9051375710138478e-65)],\n",
       " 'tsdo': [np.float64(0.004088524812280226),\n",
       "  np.float64(0.0030066481934599046),\n",
       "  np.float64(0.0020979339586917655),\n",
       "  np.float64(0.0021022344216475998),\n",
       "  np.float64(0.0015701033907509748)],\n",
       " 'stim_strenth': [np.float64(0.0035117962819822576),\n",
       "  np.float64(0.0030036807361126516),\n",
       "  np.float64(0.002089075047548736),\n",
       "  np.float64(0.0016365396895129754),\n",
       "  np.float64(0.0014485837573097909)],\n",
       " 'decision': [np.float64(0.004557644491192937),\n",
       "  np.float64(0.0006639543422702166),\n",
       "  np.float64(0.0004879119851786406),\n",
       "  np.float64(0.0004079341439296372),\n",
       "  np.float64(0.00024176896819140073)],\n",
       " 'gaze_direction': [np.float64(0.0006376919625103321),\n",
       "  np.float64(0.0005600363985180723),\n",
       "  np.float64(0.0003721533297912835),\n",
       "  np.float64(0.0003564124412146546),\n",
       "  np.float64(0.0002564762752655119)],\n",
       " 's_d_interplay': [np.float64(0.014671506209399991),\n",
       "  np.float64(0.0042883269723135815),\n",
       "  np.float64(0.004142524353161161),\n",
       "  np.float64(0.003106550713256286),\n",
       "  np.float64(0.001992814945678716)],\n",
       " 'so': [np.float64(0.003949644067677345),\n",
       "  np.float64(0.003463596432878022),\n",
       "  np.float64(0.002353080633226176),\n",
       "  np.float64(0.001954443319199615),\n",
       "  np.float64(0.0014168866159909184)],\n",
       " 'do': [np.float64(0.000521513310417703),\n",
       "  np.float64(0.0003575521081897415),\n",
       "  np.float64(0.0002562478874438717),\n",
       "  np.float64(0.0002313922962016419),\n",
       "  np.float64(0.00019702121819806476)]}"
      ]
     },
     "execution_count": 51,
     "metadata": {},
     "output_type": "execute_result"
    }
   ],
   "source": [
    "explained_variance2"
   ]
  },
  {
   "cell_type": "code",
   "execution_count": 274,
   "metadata": {},
   "outputs": [
    {
     "name": "stdout",
     "output_type": "stream",
     "text": [
      "45.195074218691026\n"
     ]
    }
   ],
   "source": [
    "from numpy.linalg import norm\n",
    "A =  dpca.D[\"ts\"][:,0]\n",
    "B = dpca2.D[\"tr\"][:,0]\n",
    "cosine_similarity = np.dot(A, B) / (norm(A) * norm(B))  # Cosine similarity\n",
    "angle = np.arccos(np.clip(cosine_similarity, -1.0, 1.0))\n",
    "print(np.degrees(angle) )"
   ]
  },
  {
   "cell_type": "code",
   "execution_count": 136,
   "metadata": {},
   "outputs": [
    {
     "data": {
      "image/png": "[encoded data removed]",
      "text/plain": [
       "<Figure size 800x600 with 2 Axes>"
      ]
     },
     "metadata": {},
     "output_type": "display_data"
    }
   ],
   "source": [
    "# Extract the first decoding axis for each category\n",
    "decoding_axes = {event: dpca.D[event][:, 0] for event in ['1', '2', '3', '4', '5', '12']}\n",
    "from numpy.linalg import norm\n",
    "from itertools import combinations\n",
    "import numpy as np\n",
    "import matplotlib.pyplot as plt\n",
    "\n",
    "# Assume decoding_axes is available\n",
    "categories = list(decoding_axes.keys())\n",
    "\n",
    "# Compute angles between decoding axes\n",
    "angles = {}\n",
    "for (cat1, cat2) in combinations(categories, 2):\n",
    "    A, B = decoding_axes[cat1], decoding_axes[cat2]\n",
    "    cosine_similarity = np.dot(A, B) / (norm(A) * norm(B))  # Cosine similarity\n",
    "    angle = np.arccos(np.clip(cosine_similarity, -1.0, 1.0))  # Ensure valid range\n",
    "    angle_degrees = np.degrees(angle)  # Convert to degrees\n",
    "    angles[(cat1, cat2)] = angle_degrees\n",
    "    angles[(cat2, cat1)] = angle_degrees  # Ensure both orderings exist\n",
    "\n",
    "# Create an empty matrix for angles\n",
    "num_categories = len(categories)\n",
    "angle_matrix = np.full((num_categories, num_categories), np.nan)  # Use NaN for masking upper triangle\n",
    "\n",
    "# Fill lower triangle with computed angles\n",
    "for i, cat1 in enumerate(categories):\n",
    "    for j, cat2 in enumerate(categories):\n",
    "        if j < i:  # Fill only lower triangle\n",
    "            angle_matrix[i, j] = angles.get((cat1, cat2), np.nan)  # Use .get() to avoid KeyError\n",
    "\n",
    "# Plot confusion matrix\n",
    "fig, ax = plt.subplots(figsize=(8, 6))\n",
    "cax = ax.matshow(angle_matrix, cmap=\"coolwarm\", vmin=0, vmax=90)  # Angle range limited to 90°\n",
    "plt.colorbar(cax, label=\"Angle (°)\")\n",
    "\n",
    "# Set category labels\n",
    "ax.set_xticks(np.arange(num_categories))\n",
    "ax.set_yticks(np.arange(num_categories))\n",
    "ax.set_xticklabels(categories, rotation=45, ha=\"right\")\n",
    "ax.set_yticklabels(categories)\n",
    "\n",
    "# Annotate matrix with angle values\n",
    "for i in range(num_categories):\n",
    "    for j in range(i):  # Only annotate lower triangle\n",
    "        ax.text(j, i, f\"{angle_matrix[i, j]:.1f}\", ha=\"center\", va=\"center\", color=\"black\")\n",
    "\n",
    "# Title\n",
    "plt.title(\"Decoding Axis Angular Relationship (Lower Triangle)\")\n",
    "plt.show()\n"
   ]
  },
  {
   "cell_type": "code",
   "execution_count": 96,
   "metadata": {},
   "outputs": [
    {
     "ename": "AttributeError",
     "evalue": "'numpy.ndarray' object has no attribute 'W'",
     "output_type": "error",
     "traceback": [
      "\u001b[31m---------------------------------------------------------------------------\u001b[39m",
      "\u001b[31mAttributeError\u001b[39m                            Traceback (most recent call last)",
      "\u001b[36mCell\u001b[39m\u001b[36m \u001b[39m\u001b[32mIn[96]\u001b[39m\u001b[32m, line 1\u001b[39m\n\u001b[32m----> \u001b[39m\u001b[32m1\u001b[39m decoding_axes = \u001b[43m{\u001b[49m\u001b[43mevent\u001b[49m\u001b[43m:\u001b[49m\u001b[43m \u001b[49m\u001b[43mZ\u001b[49m\u001b[43m[\u001b[49m\u001b[43mevent\u001b[49m\u001b[43m]\u001b[49m\u001b[43m.\u001b[49m\u001b[43mW\u001b[49m\u001b[43m[\u001b[49m\u001b[43m:\u001b[49m\u001b[43m,\u001b[49m\u001b[43m \u001b[49m\u001b[32;43m0\u001b[39;49m\u001b[43m]\u001b[49m\u001b[43m \u001b[49m\u001b[38;5;28;43;01mfor\u001b[39;49;00m\u001b[43m \u001b[49m\u001b[43mevent\u001b[49m\u001b[43m \u001b[49m\u001b[38;5;129;43;01min\u001b[39;49;00m\u001b[43m \u001b[49m\u001b[43m[\u001b[49m\u001b[33;43m'\u001b[39;49m\u001b[33;43m1\u001b[39;49m\u001b[33;43m'\u001b[39;49m\u001b[43m,\u001b[49m\u001b[43m \u001b[49m\u001b[33;43m'\u001b[39;49m\u001b[33;43m2\u001b[39;49m\u001b[33;43m'\u001b[39;49m\u001b[43m,\u001b[49m\u001b[43m \u001b[49m\u001b[33;43m'\u001b[39;49m\u001b[33;43m3\u001b[39;49m\u001b[33;43m'\u001b[39;49m\u001b[43m,\u001b[49m\u001b[43m \u001b[49m\u001b[33;43m'\u001b[39;49m\u001b[33;43m4\u001b[39;49m\u001b[33;43m'\u001b[39;49m\u001b[43m,\u001b[49m\u001b[43m \u001b[49m\u001b[33;43m'\u001b[39;49m\u001b[33;43m5\u001b[39;49m\u001b[33;43m'\u001b[39;49m\u001b[43m,\u001b[49m\u001b[43m \u001b[49m\u001b[33;43m'\u001b[39;49m\u001b[33;43m12\u001b[39;49m\u001b[33;43m'\u001b[39;49m\u001b[43m]\u001b[49m\u001b[43m}\u001b[49m\n",
      "\u001b[36mCell\u001b[39m\u001b[36m \u001b[39m\u001b[32mIn[96]\u001b[39m\u001b[32m, line 1\u001b[39m, in \u001b[36m<dictcomp>\u001b[39m\u001b[34m(.0)\u001b[39m\n\u001b[32m----> \u001b[39m\u001b[32m1\u001b[39m decoding_axes = {event: \u001b[43mZ\u001b[49m\u001b[43m[\u001b[49m\u001b[43mevent\u001b[49m\u001b[43m]\u001b[49m\u001b[43m.\u001b[49m\u001b[43mW\u001b[49m[:, \u001b[32m0\u001b[39m] \u001b[38;5;28;01mfor\u001b[39;00m event \u001b[38;5;129;01min\u001b[39;00m [\u001b[33m'\u001b[39m\u001b[33m1\u001b[39m\u001b[33m'\u001b[39m, \u001b[33m'\u001b[39m\u001b[33m2\u001b[39m\u001b[33m'\u001b[39m, \u001b[33m'\u001b[39m\u001b[33m3\u001b[39m\u001b[33m'\u001b[39m, \u001b[33m'\u001b[39m\u001b[33m4\u001b[39m\u001b[33m'\u001b[39m, \u001b[33m'\u001b[39m\u001b[33m5\u001b[39m\u001b[33m'\u001b[39m, \u001b[33m'\u001b[39m\u001b[33m12\u001b[39m\u001b[33m'\u001b[39m]}\n",
      "\u001b[31mAttributeError\u001b[39m: 'numpy.ndarray' object has no attribute 'W'"
     ]
    }
   ],
   "source": [
    "decoding_axes = {event: Z[event].W[:, 0] for event in ['1', '2', '3', '4', '5', '12']}\n"
   ]
  },
  {
   "cell_type": "code",
   "execution_count": null,
   "metadata": {},
   "outputs": [
    {
     "data": {
      "text/plain": [
       "{'1': [np.float64(1.7198415471048898e-68),\n",
       "  np.float64(1.689021263087618e-70),\n",
       "  np.float64(5.756003874546423e-71),\n",
       "  np.float64(1.151681364476056e-70),\n",
       "  np.float64(1.7251914227283165e-102)],\n",
       " '2': [np.float64(1.7198415471048905e-68),\n",
       "  np.float64(1.2970113861230566e-70),\n",
       "  np.float64(1.259766986029505e-70),\n",
       "  np.float64(8.595246428657506e-71),\n",
       "  np.float64(6.370657076651397e-102)],\n",
       " '3': [np.float64(4.4081827250516706e-67),\n",
       "  np.float64(3.7871062274553836e-69),\n",
       "  np.float64(5.908914756656718e-69),\n",
       "  np.float64(1.7567846959379996e-68),\n",
       "  np.float64(2.2671580651004465e-71)],\n",
       " '4': [np.float64(3.340942899836183e-05),\n",
       "  np.float64(1.4740863570410837e-37),\n",
       "  np.float64(8.644631740983243e-38),\n",
       "  np.float64(1.2156863769001613e-39),\n",
       "  np.float64(3.527161462464605e-39)],\n",
       " '5': [np.float64(3.046633262609617e-68),\n",
       "  np.float64(7.634826570177484e-70),\n",
       "  np.float64(3.295190064429487e-70),\n",
       "  np.float64(1.4660409896552109e-71),\n",
       "  np.float64(8.928808199592526e-101)],\n",
       " '12': [np.float64(1.261974482463604e-31),\n",
       "  np.float64(4.908808678305646e-66),\n",
       "  np.float64(4.3147079536109335e-66),\n",
       "  np.float64(2.3094324582721032e-66),\n",
       "  np.float64(1.624303632000255e-66)],\n",
       " '13': [np.float64(7.777963595399031e-31),\n",
       "  np.float64(1.173176966742537e-63),\n",
       "  np.float64(9.723531197591328e-64),\n",
       "  np.float64(5.67876609466235e-64),\n",
       "  np.float64(1.0208739174539623e-63)],\n",
       " '14': [np.float64(3.3409428998375044e-05),\n",
       "  np.float64(9.73731821780032e-38),\n",
       "  np.float64(1.7270291837843697e-37),\n",
       "  np.float64(1.8483405859029492e-38),\n",
       "  np.float64(5.624739262797659e-39)],\n",
       " '15': [np.float64(5.047897929854416e-31),\n",
       "  np.float64(1.9635234713222584e-65),\n",
       "  np.float64(1.2283915931753812e-62),\n",
       "  np.float64(2.9218327662010982e-64),\n",
       "  np.float64(1.3245638548603913e-63)],\n",
       " '23': [np.float64(1.8387315588433532e-29),\n",
       "  np.float64(8.112714653763518e-63),\n",
       "  np.float64(3.930838763631784e-61),\n",
       "  np.float64(7.273842655286586e-63),\n",
       "  np.float64(3.1686982965619364e-64)],\n",
       " '24': [np.float64(3.340942899837771e-05),\n",
       "  np.float64(4.753081435650756e-37),\n",
       "  np.float64(2.516788637459775e-37),\n",
       "  np.float64(2.10384919177962e-38),\n",
       "  np.float64(1.118258477690883e-38)],\n",
       " '25': [np.float64(2.9932000563260927e-31),\n",
       "  np.float64(1.4326308712026285e-64),\n",
       "  np.float64(3.906516920764166e-64),\n",
       "  np.float64(1.2216253321826283e-63),\n",
       "  np.float64(8.681150138995625e-65)],\n",
       " '34': [np.float64(0.0007845467461927596),\n",
       "  np.float64(1.1033987450453218e-36),\n",
       "  np.float64(1.6445516104359452e-37),\n",
       "  np.float64(1.304622335311406e-36),\n",
       "  np.float64(1.6291830410396372e-36)],\n",
       " '35': [np.float64(3.1111854381596123e-30),\n",
       "  np.float64(4.692707866970148e-63),\n",
       "  np.float64(7.156544251457174e-63),\n",
       "  np.float64(9.008187254165728e-63),\n",
       "  np.float64(5.7379290588132617e-64)],\n",
       " '45': [np.float64(0.008068545519111705),\n",
       "  np.float64(2.979770857865299e-37),\n",
       "  np.float64(4.9629154786720374e-36),\n",
       "  np.float64(7.361920483264289e-35),\n",
       "  np.float64(4.4253216111648776e-36)],\n",
       " '123': [np.float64(1.0338791008468043e-28),\n",
       "  np.float64(1.0844412105602014e-63),\n",
       "  np.float64(3.795624116454204e-61),\n",
       "  np.float64(1.3252997531703328e-61),\n",
       "  np.float64(1.5564934191775114e-62)],\n",
       " '124': [np.float64(3.340942899850658e-05),\n",
       "  np.float64(4.908306569186044e-38),\n",
       "  np.float64(4.8716947638796726e-40),\n",
       "  np.float64(3.047889654286732e-38),\n",
       "  np.float64(9.779383194547292e-39)],\n",
       " '125': [np.float64(6.879147843003061e-28),\n",
       "  np.float64(6.445515945782878e-61),\n",
       "  np.float64(1.8612608277024222e-60),\n",
       "  np.float64(3.288696835438997e-61),\n",
       "  np.float64(3.9319882960777096e-62)],\n",
       " '134': [np.float64(0.0007845467461935476),\n",
       "  np.float64(9.716608595913881e-37),\n",
       "  np.float64(3.5739950998101446e-37),\n",
       "  np.float64(1.4033317412023658e-38),\n",
       "  np.float64(2.7185298688252675e-37)],\n",
       " '135': [np.float64(8.127650610145863e-28),\n",
       "  np.float64(8.553555532332056e-61),\n",
       "  np.float64(2.511869821783896e-60),\n",
       "  np.float64(1.656776811216496e-61),\n",
       "  np.float64(8.648959973553673e-61)],\n",
       " '145': [np.float64(0.008068545519114843),\n",
       "  np.float64(1.2458332071239214e-35),\n",
       "  np.float64(3.9656176553079346e-37),\n",
       "  np.float64(4.6938157454877985e-36),\n",
       "  np.float64(1.1965840028932122e-36)],\n",
       " '234': [np.float64(0.0007845467461938062),\n",
       "  np.float64(1.136148603914971e-35),\n",
       "  np.float64(6.309484741389237e-37),\n",
       "  np.float64(1.5963977286519815e-37),\n",
       "  np.float64(6.299230970958713e-37)],\n",
       " '235': [np.float64(5.228746748387058e-29),\n",
       "  np.float64(3.65975411336844e-61),\n",
       "  np.float64(1.0558894902758266e-61),\n",
       "  np.float64(1.5294798505855695e-62),\n",
       "  np.float64(8.374965328702983e-62)],\n",
       " '245': [np.float64(0.008068545519115716),\n",
       "  np.float64(1.6428580469625656e-34),\n",
       "  np.float64(6.020228949342441e-34),\n",
       "  np.float64(1.3646265082219896e-35),\n",
       "  np.float64(1.190170548069079e-36)],\n",
       " '345': [np.float64(0.20056958896140942),\n",
       "  np.float64(2.3789082531214147e-34),\n",
       "  np.float64(2.7042780896755783e-33),\n",
       "  np.float64(3.613363109532864e-33),\n",
       "  np.float64(7.4944084980281395e-34)],\n",
       " '1234': [np.float64(0.000784546746202169),\n",
       "  np.float64(1.7396556717104088e-37),\n",
       "  np.float64(1.7139719751758578e-37),\n",
       "  np.float64(2.8059680750125656e-37),\n",
       "  np.float64(1.6712056253550058e-38)],\n",
       " '1235': [np.float64(5.492424128430181e-28),\n",
       "  np.float64(3.869619908075458e-63),\n",
       "  np.float64(6.964738678440451e-60),\n",
       "  np.float64(3.384967710789968e-61),\n",
       "  np.float64(1.0952094414043911e-60)],\n",
       " '1245': [np.float64(0.008068545519145008),\n",
       "  np.float64(1.1102430768323353e-34),\n",
       "  np.float64(1.9510554315373395e-35),\n",
       "  np.float64(1.2011778992896007e-35),\n",
       "  np.float64(7.5328346533511e-38)],\n",
       " '1345': [np.float64(0.20056958896170776),\n",
       "  np.float64(1.0579910203904545e-36),\n",
       "  np.float64(2.4795762534091617e-35),\n",
       "  np.float64(1.7138709774622308e-34),\n",
       "  np.float64(3.062110741959606e-35)],\n",
       " '2345': [np.float64(0.20056958896157753),\n",
       "  np.float64(5.071378232806999e-35),\n",
       "  np.float64(5.684397955448403e-35),\n",
       "  np.float64(1.2354620351933858e-33),\n",
       "  np.float64(3.921701860841549e-34)],\n",
       " '12345': [np.float64(0.20056958896156243),\n",
       "  np.float64(8.198141456600588e-36),\n",
       "  np.float64(7.463675204525694e-34),\n",
       "  np.float64(2.787708829870462e-34),\n",
       "  np.float64(4.897040629605387e-34)]}"
      ]
     },
     "execution_count": 89,
     "metadata": {},
     "output_type": "execute_result"
    }
   ],
   "source": [
    "import numpy as np\n",
    "\n",
    "# List of selected categories\n",
    "categories = ['1', '2', '3', '4', '5', '12']\n",
    "\n",
    "# Extract first principal component for each category\n",
    "main_axes = {event: Z[event][0].flatten() for event in categories}  # Flatten to 1D\n",
    "explained_variance"
   ]
  },
  {
   "cell_type": "code",
   "execution_count": null,
   "metadata": {},
   "outputs": [],
   "source": [
    "io.close"
   ]
  }
 ],
 "metadata": {
  "kernelspec": {
   "display_name": "venv",
   "language": "python",
   "name": "python3"
  },
  "language_info": {
   "codemirror_mode": {
    "name": "ipython",
    "version": 3
   },
   "file_extension": ".py",
   "mimetype": "text/x-python",
   "name": "python",
   "nbconvert_exporter": "python",
   "pygments_lexer": "ipython3",
   "version": "3.11.9"
  }
 },
 "nbformat": 4,
 "nbformat_minor": 2
}
